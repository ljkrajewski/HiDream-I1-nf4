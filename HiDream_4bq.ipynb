{
  "cells": [
    {
      "cell_type": "markdown",
      "metadata": {
        "id": "view-in-github",
        "colab_type": "text"
      },
      "source": [
        "<a href=\"https://colab.research.google.com/github/ljkrajewski/HiDream-I1-nf4/blob/main/HiDream_4bq.ipynb\" target=\"_parent\"><img src=\"https://colab.research.google.com/assets/colab-badge.svg\" alt=\"Open In Colab\"/></a>"
      ]
    },
    {
      "cell_type": "code",
      "execution_count": null,
      "metadata": {
        "id": "9XzOpK9luubU"
      },
      "outputs": [],
      "source": [
        "!git clone https://github.com/ljkrajewski/HiDream-I1-nf4.git\n",
        "%cd HiDream-I1-nf4\n",
        "!pip install hdi1 --no-build-isolation"
      ]
    },
    {
      "cell_type": "code",
      "execution_count": null,
      "metadata": {
        "colab": {
          "background_save": true
        },
        "id": "rNMXHRj9w6wU"
      },
      "outputs": [],
      "source": [
        "#!python -m hdi1 \"A cat holding a sign that says 'hello world'\" -m fast\n",
        "#!python -m hdi1.web"
      ]
    },
    {
      "cell_type": "code",
      "source": [
        "import torch\n",
        "import gradio as gr\n",
        "import logging\n",
        "\n",
        "from .nf4 import *\n",
        "\n",
        "# Resolution options\n",
        "RESOLUTION_OPTIONS = [\n",
        "    \"1024 × 1024 (Square)\",\n",
        "    \"768 × 1360 (Portrait)\",\n",
        "    \"1360 × 768 (Landscape)\",\n",
        "    \"880 × 1168 (Portrait)\",\n",
        "    \"1168 × 880 (Landscape)\",\n",
        "    \"1248 × 832 (Landscape)\",\n",
        "    \"832 × 1248 (Portrait)\"\n",
        "]\n",
        "\n",
        "# Parse resolution string to get height and width\n",
        "def parse_resolution(resolution_str):\n",
        "    return tuple(map(int, resolution_str.split(\"(\")[0].strip().split(\" × \")))\n",
        "\n",
        "def gen_img_helper(model, prompt, res, seed):\n",
        "    global pipe, current_model\n",
        "\n",
        "    # 1. Check if the model matches loaded model, load the model if not\n",
        "    if model != current_model:\n",
        "        print(f\"Unloading model {current_model}...\")\n",
        "        del pipe\n",
        "        torch.cuda.empty_cache()\n",
        "\n",
        "        print(f\"Loading model {model}...\")\n",
        "        pipe, _ = load_models(model)\n",
        "        current_model = model\n",
        "        print(\"Model loaded successfully!\")\n",
        "\n",
        "    # 2. Generate image\n",
        "    res = parse_resolution(res)\n",
        "    return generate_image(pipe, model, prompt, res, seed)\n",
        "\n",
        "if __name__ == \"__main__\":\n",
        "    logging.getLogger(\"transformers.modeling_utils\").setLevel(logging.ERROR)\n",
        "\n",
        "    # Initialize with default model\n",
        "    print(\"Loading default model (fast)...\")\n",
        "    current_model = \"fast\"\n",
        "    pipe, _ = load_models(current_model)\n",
        "    print(\"Model loaded successfully!\")\n",
        "\n",
        "    # Create Gradio interface\n",
        "    with gr.Blocks(title=\"HiDream-I1-nf4 Dashboard\") as demo:\n",
        "        gr.Markdown(\"# HiDream-I1-nf4 Dashboard\")\n",
        "\n",
        "        with gr.Row():\n",
        "            with gr.Column():\n",
        "                model_type = gr.Radio(\n",
        "                    choices=list(MODEL_CONFIGS.keys()),\n",
        "                    value=\"fast\",\n",
        "                    label=\"Model Type\",\n",
        "                    info=\"Select model variant\"\n",
        "                )\n",
        "\n",
        "                prompt = gr.Textbox(\n",
        "                    label=\"Prompt\",\n",
        "                    placeholder=\"A cat holding a sign that says \\\"Hi-Dreams.ai\\\".\",\n",
        "                    lines=3\n",
        "                )\n",
        "\n",
        "                resolution = gr.Radio(\n",
        "                    choices=RESOLUTION_OPTIONS,\n",
        "                    value=RESOLUTION_OPTIONS[0],\n",
        "                    label=\"Resolution\",\n",
        "                    info=\"Select image resolution\"\n",
        "                )\n",
        "\n",
        "                seed = gr.Number(\n",
        "                    label=\"Seed (use -1 for random)\",\n",
        "                    value=-1,\n",
        "                    precision=0\n",
        "                )\n",
        "\n",
        "                generate_btn = gr.Button(\"Generate Image\")\n",
        "                seed_used = gr.Number(label=\"Seed Used\", interactive=False)\n",
        "\n",
        "            with gr.Column():\n",
        "                output_image = gr.Image(label=\"Generated Image\", type=\"pil\")\n",
        "\n",
        "        generate_btn.click(\n",
        "            fn=gen_img_helper,\n",
        "            inputs=[model_type, prompt, resolution, seed],\n",
        "            outputs=[output_image, seed_used]\n",
        "        )\n",
        "\n",
        "    # Launch with public sharing enabled\n",
        "    demo.launch(share=True, share_duration=72)"
      ],
      "metadata": {
        "id": "yk9pR_w-VeKi"
      },
      "execution_count": null,
      "outputs": []
    }
  ],
  "metadata": {
    "accelerator": "GPU",
    "colab": {
      "gpuType": "L4",
      "provenance": [],
      "authorship_tag": "ABX9TyOdXNWxpqwRcfKO6WOHiobz",
      "include_colab_link": true
    },
    "kernelspec": {
      "display_name": "Python 3",
      "name": "python3"
    },
    "language_info": {
      "name": "python"
    }
  },
  "nbformat": 4,
  "nbformat_minor": 0
}