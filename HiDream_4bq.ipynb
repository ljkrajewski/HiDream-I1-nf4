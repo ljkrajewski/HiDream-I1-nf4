{
  "cells": [
    {
      "cell_type": "markdown",
      "metadata": {
        "id": "view-in-github",
        "colab_type": "text"
      },
      "source": [
        "<a href=\"https://colab.research.google.com/github/ljkrajewski/HiDream-I1-nf4/blob/main/HiDream_4bq.ipynb\" target=\"_parent\"><img src=\"https://colab.research.google.com/assets/colab-badge.svg\" alt=\"Open In Colab\"/></a>"
      ]
    },
    {
      "cell_type": "code",
      "execution_count": null,
      "metadata": {
        "id": "9XzOpK9luubU"
      },
      "outputs": [],
      "source": [
        "#Run this cell by itself first, then restart the session when requested and run the next cell.\n",
        "\n",
        "#!git clone https://github.com/ljkrajewski/HiDream-I1-nf4.git\n",
        "!git clone https://github.com/hykilpikonna/HiDream-I1-nf4.git\n",
        "%cd HiDream-I1-nf4\n",
        "!pip install hdi1 --no-build-isolation"
      ]
    },
    {
      "cell_type": "code",
      "source": [
        "LISTENING_PORT = 7860\n",
        "from google.colab.output import eval_js\n",
        "print(eval_js(\"google.colab.kernel.proxyPort(\" + str(LISTENING_PORT) + \")\"))"
      ],
      "metadata": {
        "id": "A-mQljB29Lum"
      },
      "execution_count": null,
      "outputs": []
    },
    {
      "cell_type": "code",
      "execution_count": null,
      "metadata": {
        "id": "rNMXHRj9w6wU"
      },
      "outputs": [],
      "source": [
        "#!python -m hdi1 \"A cat holding a sign that says 'hello world'\" -m fast\n",
        "!python -m hdi1.web"
      ]
    }
  ],
  "metadata": {
    "accelerator": "GPU",
    "colab": {
      "gpuType": "L4",
      "provenance": [],
      "authorship_tag": "ABX9TyNIsTMGDpMCl90Ah/I2tZQL",
      "include_colab_link": true
    },
    "kernelspec": {
      "display_name": "Python 3",
      "name": "python3"
    },
    "language_info": {
      "name": "python"
    }
  },
  "nbformat": 4,
  "nbformat_minor": 0
}